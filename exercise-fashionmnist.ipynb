{
 "cells": [
  {
   "cell_type": "code",
   "execution_count": 1,
   "metadata": {
    "_cell_guid": "b1076dfc-b9ad-4769-8c92-a6c4dae69d19",
    "_uuid": "8f2839f25d086af736a60e9eeb907d3b93b6e0e5"
   },
   "outputs": [
    {
     "name": "stdout",
     "output_type": "stream",
     "text": [
      "/kaggle/input/fashionmnist/train-images-idx3-ubyte\n",
      "/kaggle/input/fashionmnist/train-labels-idx1-ubyte\n",
      "/kaggle/input/fashionmnist/t10k-labels-idx1-ubyte\n",
      "/kaggle/input/fashionmnist/fashion-mnist_train.csv\n",
      "/kaggle/input/fashionmnist/t10k-images-idx3-ubyte\n",
      "/kaggle/input/fashionmnist/fashion-mnist_test.csv\n"
     ]
    }
   ],
   "source": [
    "# This Python 3 environment comes with many helpful analytics libraries installed\n",
    "# It is defined by the kaggle/python docker image: https://github.com/kaggle/docker-python\n",
    "# For example, here's several helpful packages to load in \n",
    "\n",
    "import numpy as np # linear algebra\n",
    "import pandas as pd # data processing, CSV file I/O (e.g. pd.read_csv)\n",
    "\n",
    "# Input data files are available in the \"../input/\" directory.\n",
    "# For example, running this (by clicking run or pressing Shift+Enter) will list all files under the input directory\n",
    "\n",
    "import os\n",
    "for dirname, _, filenames in os.walk('/kaggle/input'):\n",
    "    for filename in filenames:\n",
    "        print(os.path.join(dirname, filename))\n",
    "\n",
    "# Any results you write to the current directory are saved as output."
   ]
  },
  {
   "cell_type": "markdown",
   "metadata": {
    "_cell_guid": "79c7e3d0-c299-4dcb-8224-4455121ee9b0",
    "_uuid": "d629ff2d2480ee46fbb7e2d37f6b5fab8052498a",
    "collapsed": true
   },
   "source": [
    "# Load csv file"
   ]
  },
  {
   "cell_type": "code",
   "execution_count": 2,
   "metadata": {},
   "outputs": [],
   "source": [
    "train_csv_path = '/kaggle/input/fashionmnist/fashion-mnist_train.csv'\n",
    "test_csv_path = '/kaggle/input/fashionmnist/fashion-mnist_test.csv'\n",
    "\n",
    "train_df = pd.read_csv(train_csv_path)\n",
    "test_df = pd.read_csv(test_csv_path)\n",
    "\n",
    "# remove first column and convert to numpy array, transform to [0..1]\n",
    "x_train = train_df.drop(columns=['label']).values / 255\n",
    "y_train = train_df['label'].values\n",
    "x_test = test_df.drop(columns=['label']).values / 255\n",
    "y_test = test_df['label'].values"
   ]
  },
  {
   "cell_type": "markdown",
   "metadata": {},
   "source": [
    "# Show a sample image"
   ]
  },
  {
   "cell_type": "code",
   "execution_count": 3,
   "metadata": {},
   "outputs": [
    {
     "data": {
      "text/plain": [
       "<matplotlib.image.AxesImage at 0x7f561c1a1cc0>"
      ]
     },
     "execution_count": 3,
     "metadata": {},
     "output_type": "execute_result"
    },
    {
     "data": {
      "image/png": "[encoded data removed]",
      "text/plain": [
       "<Figure size 432x288 with 1 Axes>"
      ]
     },
     "metadata": {
      "needs_background": "light"
     },
     "output_type": "display_data"
    }
   ],
   "source": [
    "import matplotlib.pyplot as plt\n",
    "\n",
    "sample_image = x_train[0,:].reshape((28,28))\n",
    "plt.imshow(sample_image)\n"
   ]
  },
  {
   "cell_type": "markdown",
   "metadata": {},
   "source": [
    "# CNN model"
   ]
  },
  {
   "cell_type": "code",
   "execution_count": 4,
   "metadata": {},
   "outputs": [
    {
     "name": "stderr",
     "output_type": "stream",
     "text": [
      "Using TensorFlow backend.\n"
     ]
    }
   ],
   "source": [
    "import keras\n",
    "from keras.models import Sequential\n",
    "from keras.layers import Conv2D, MaxPooling2D, Flatten, Dense, Dropout, BatchNormalization\n",
    "from keras.optimizers import RMSprop"
   ]
  },
  {
   "cell_type": "code",
   "execution_count": 5,
   "metadata": {},
   "outputs": [],
   "source": [
    "image_rows = 28\n",
    "image_cols = 28\n",
    "batch_size = 32\n",
    "image_shape = (image_rows, image_cols, 1)"
   ]
  },
  {
   "cell_type": "code",
   "execution_count": 6,
   "metadata": {},
   "outputs": [],
   "source": [
    "x_train = x_train.reshape(x_train.shape[0], *image_shape)\n",
    "x_test = x_test.reshape(x_test.shape[0], *image_shape)"
   ]
  },
  {
   "cell_type": "code",
   "execution_count": 7,
   "metadata": {},
   "outputs": [],
   "source": [
    "BatchNormalization?"
   ]
  },
  {
   "cell_type": "code",
   "execution_count": 8,
   "metadata": {},
   "outputs": [],
   "source": [
    "model = Sequential([\n",
    "    Conv2D(filters=32, kernel_size=3, activation='relu', input_shape=(28,28,1)),\n",
    "    MaxPooling2D(2),\n",
    "    Conv2D(filters=64, kernel_size=3, activation='relu'),\n",
    "    BatchNormalization(),\n",
    "    MaxPooling2D(2),\n",
    "    Dropout(0.2),\n",
    "    Flatten(),\n",
    "    Dense(32, activation='relu'),\n",
    "    Dense(10, activation='softmax'),\n",
    "])"
   ]
  },
  {
   "cell_type": "code",
   "execution_count": 9,
   "metadata": {},
   "outputs": [],
   "source": [
    "model.compile(loss='sparse_categorical_crossentropy', optimizer=RMSprop(), metrics=['accuracy'])"
   ]
  },
  {
   "cell_type": "code",
   "execution_count": 10,
   "metadata": {},
   "outputs": [
    {
     "name": "stdout",
     "output_type": "stream",
     "text": [
      "Epoch 1/50\n",
      "60000/60000 [==============================] - 10s 164us/step - loss: 0.4301 - accuracy: 0.8418\n",
      "Epoch 2/50\n",
      "60000/60000 [==============================] - 7s 115us/step - loss: 0.3053 - accuracy: 0.8893\n",
      "Epoch 3/50\n",
      "60000/60000 [==============================] - 7s 114us/step - loss: 0.2746 - accuracy: 0.8992\n",
      "Epoch 4/50\n",
      "60000/60000 [==============================] - 7s 113us/step - loss: 0.2562 - accuracy: 0.9064\n",
      "Epoch 5/50\n",
      "60000/60000 [==============================] - 7s 113us/step - loss: 0.2394 - accuracy: 0.9114\n",
      "Epoch 6/50\n",
      "60000/60000 [==============================] - 7s 113us/step - loss: 0.2278 - accuracy: 0.9166\n",
      "Epoch 7/50\n",
      "60000/60000 [==============================] - 7s 113us/step - loss: 0.2219 - accuracy: 0.9187\n",
      "Epoch 8/50\n",
      "60000/60000 [==============================] - 7s 113us/step - loss: 0.2130 - accuracy: 0.9233\n",
      "Epoch 9/50\n",
      "60000/60000 [==============================] - 7s 113us/step - loss: 0.2067 - accuracy: 0.9237\n",
      "Epoch 10/50\n",
      "60000/60000 [==============================] - 7s 113us/step - loss: 0.2016 - accuracy: 0.9258\n",
      "Epoch 11/50\n",
      "60000/60000 [==============================] - 7s 113us/step - loss: 0.1925 - accuracy: 0.9299\n",
      "Epoch 12/50\n",
      "60000/60000 [==============================] - 7s 113us/step - loss: 0.1896 - accuracy: 0.9306\n",
      "Epoch 13/50\n",
      "60000/60000 [==============================] - 7s 114us/step - loss: 0.1835 - accuracy: 0.9328\n",
      "Epoch 14/50\n",
      "60000/60000 [==============================] - 7s 115us/step - loss: 0.1833 - accuracy: 0.9335\n",
      "Epoch 15/50\n",
      "60000/60000 [==============================] - 7s 114us/step - loss: 0.1729 - accuracy: 0.9366\n",
      "Epoch 16/50\n",
      "60000/60000 [==============================] - 7s 114us/step - loss: 0.1722 - accuracy: 0.9363\n",
      "Epoch 17/50\n",
      "60000/60000 [==============================] - 7s 114us/step - loss: 0.1672 - accuracy: 0.9384\n",
      "Epoch 18/50\n",
      "60000/60000 [==============================] - 7s 114us/step - loss: 0.1652 - accuracy: 0.9403\n",
      "Epoch 19/50\n",
      "60000/60000 [==============================] - 7s 114us/step - loss: 0.1619 - accuracy: 0.9415\n",
      "Epoch 20/50\n",
      "60000/60000 [==============================] - 7s 113us/step - loss: 0.1574 - accuracy: 0.9429\n",
      "Epoch 21/50\n",
      "60000/60000 [==============================] - 7s 113us/step - loss: 0.1561 - accuracy: 0.9430\n",
      "Epoch 22/50\n",
      "60000/60000 [==============================] - 7s 113us/step - loss: 0.1522 - accuracy: 0.9438\n",
      "Epoch 23/50\n",
      "60000/60000 [==============================] - 7s 114us/step - loss: 0.1487 - accuracy: 0.9456\n",
      "Epoch 24/50\n",
      "60000/60000 [==============================] - 7s 120us/step - loss: 0.1463 - accuracy: 0.9469\n",
      "Epoch 25/50\n",
      "60000/60000 [==============================] - 7s 115us/step - loss: 0.1449 - accuracy: 0.9464\n",
      "Epoch 26/50\n",
      "60000/60000 [==============================] - 7s 115us/step - loss: 0.1424 - accuracy: 0.9490\n",
      "Epoch 27/50\n",
      "60000/60000 [==============================] - 7s 114us/step - loss: 0.1389 - accuracy: 0.9492\n",
      "Epoch 28/50\n",
      "60000/60000 [==============================] - 7s 114us/step - loss: 0.1336 - accuracy: 0.9516\n",
      "Epoch 29/50\n",
      "60000/60000 [==============================] - 7s 113us/step - loss: 0.1336 - accuracy: 0.9514\n",
      "Epoch 30/50\n",
      "60000/60000 [==============================] - 7s 113us/step - loss: 0.1309 - accuracy: 0.9517\n",
      "Epoch 31/50\n",
      "60000/60000 [==============================] - 7s 113us/step - loss: 0.1307 - accuracy: 0.9516\n",
      "Epoch 32/50\n",
      "60000/60000 [==============================] - 7s 113us/step - loss: 0.1269 - accuracy: 0.9528\n",
      "Epoch 33/50\n",
      "60000/60000 [==============================] - 7s 113us/step - loss: 0.1232 - accuracy: 0.9555\n",
      "Epoch 34/50\n",
      "60000/60000 [==============================] - 7s 116us/step - loss: 0.1244 - accuracy: 0.9546\n",
      "Epoch 35/50\n",
      "60000/60000 [==============================] - 7s 116us/step - loss: 0.1191 - accuracy: 0.9561\n",
      "Epoch 36/50\n",
      "60000/60000 [==============================] - 7s 115us/step - loss: 0.1203 - accuracy: 0.9556\n",
      "Epoch 37/50\n",
      "60000/60000 [==============================] - 7s 114us/step - loss: 0.1179 - accuracy: 0.9564\n",
      "Epoch 38/50\n",
      "60000/60000 [==============================] - 7s 113us/step - loss: 0.1163 - accuracy: 0.9570\n",
      "Epoch 39/50\n",
      "60000/60000 [==============================] - 7s 114us/step - loss: 0.1158 - accuracy: 0.9569\n",
      "Epoch 40/50\n",
      "60000/60000 [==============================] - 7s 115us/step - loss: 0.1121 - accuracy: 0.9593\n",
      "Epoch 41/50\n",
      "60000/60000 [==============================] - 7s 114us/step - loss: 0.1120 - accuracy: 0.9587\n",
      "Epoch 42/50\n",
      "60000/60000 [==============================] - 7s 113us/step - loss: 0.1084 - accuracy: 0.9593\n",
      "Epoch 43/50\n",
      "60000/60000 [==============================] - 7s 113us/step - loss: 0.1075 - accuracy: 0.9611\n",
      "Epoch 44/50\n",
      "60000/60000 [==============================] - 7s 114us/step - loss: 0.1077 - accuracy: 0.9603\n",
      "Epoch 45/50\n",
      "60000/60000 [==============================] - 7s 115us/step - loss: 0.1046 - accuracy: 0.9617\n",
      "Epoch 46/50\n",
      "60000/60000 [==============================] - 7s 113us/step - loss: 0.1047 - accuracy: 0.9621\n",
      "Epoch 47/50\n",
      " 4672/60000 [=>............................] - ETA: 6s - loss: 0.0920 - accuracy: 0.9668"
     ]
    }
   ],
   "source": [
    "max_epochs = 50\n",
    "\n",
    "history = model.fit(\n",
    "    x_train,\n",
    "    y_train,\n",
    "    batch_size=64,\n",
    "    epochs=max_epochs,\n",
    "    verbose=1,\n",
    ")"
   ]
  },
  {
   "cell_type": "code",
   "execution_count": 11,
   "metadata": {},
   "outputs": [
    {
     "name": "stdout",
     "output_type": "stream",
     "text": [
      "10000/10000 [==============================] - 1s 64us/step\n"
     ]
    },
    {
     "data": {
      "text/plain": [
       "[0.37020718071386216, 0.9111999869346619]"
      ]
     },
     "execution_count": 11,
     "metadata": {},
     "output_type": "execute_result"
    }
   ],
   "source": [
    "scores = model.evaluate(x_test, y_test, verbose=1)\n",
    "scores"
   ]
  },
  {
   "cell_type": "code",
   "execution_count": 12,
   "metadata": {},
   "outputs": [
    {
     "data": {
      "text/plain": [
       "{'loss': [0.43012679127057396,\n",
       "  0.3052555834531784,\n",
       "  0.27463079919815064,\n",
       "  0.25620171347856524,\n",
       "  0.23944542283217113,\n",
       "  0.22782297120889028,\n",
       "  0.22192657568454743,\n",
       "  0.21295720454057057,\n",
       "  0.20669999319314958,\n",
       "  0.2016031080186367,\n",
       "  0.1924618828455607,\n",
       "  0.18956506851216157,\n",
       "  0.18352355275551477,\n",
       "  0.18328846347332,\n",
       "  0.17285347145001093,\n",
       "  0.17220003825028737,\n",
       "  0.16718889223535854,\n",
       "  0.16515289194583893,\n",
       "  0.16194860798915228,\n",
       "  0.1574353635450204,\n",
       "  0.15612399610678354,\n",
       "  0.15223624619642895,\n",
       "  0.14874438482224941,\n",
       "  0.1462963725109895,\n",
       "  0.14491070413986842,\n",
       "  0.14237869804998238,\n",
       "  0.13886043441096943,\n",
       "  0.13362470319171746,\n",
       "  0.13358403249184292,\n",
       "  0.13094190907776357,\n",
       "  0.13073463055888812,\n",
       "  0.12693616908987362,\n",
       "  0.12324758875866731,\n",
       "  0.12436843335280816,\n",
       "  0.11907042186756929,\n",
       "  0.1203061003362139,\n",
       "  0.11793725871344407,\n",
       "  0.11630300234407187,\n",
       "  0.11580064924657345,\n",
       "  0.11207705721159776,\n",
       "  0.1119590420273443,\n",
       "  0.10840071661472321,\n",
       "  0.10751882401928306,\n",
       "  0.10765703695962826,\n",
       "  0.10461679884791374,\n",
       "  0.10473857576375206,\n",
       "  0.10192736408213775,\n",
       "  0.10258702979236842,\n",
       "  0.1022969933718443,\n",
       "  0.1010661409407854],\n",
       " 'accuracy': [0.84183335,\n",
       "  0.8893167,\n",
       "  0.89921665,\n",
       "  0.90635,\n",
       "  0.91136664,\n",
       "  0.91658336,\n",
       "  0.91866666,\n",
       "  0.92331666,\n",
       "  0.9237,\n",
       "  0.92585,\n",
       "  0.9299333,\n",
       "  0.9306,\n",
       "  0.9327667,\n",
       "  0.9335333,\n",
       "  0.93658334,\n",
       "  0.93635,\n",
       "  0.93843335,\n",
       "  0.9403333,\n",
       "  0.9415,\n",
       "  0.9429333,\n",
       "  0.943,\n",
       "  0.94381666,\n",
       "  0.94565,\n",
       "  0.9469333,\n",
       "  0.9464333,\n",
       "  0.9489833,\n",
       "  0.94925,\n",
       "  0.95155,\n",
       "  0.95136666,\n",
       "  0.95165,\n",
       "  0.9515833,\n",
       "  0.95276666,\n",
       "  0.9555333,\n",
       "  0.9546,\n",
       "  0.95606667,\n",
       "  0.95561665,\n",
       "  0.95645,\n",
       "  0.95695,\n",
       "  0.9569167,\n",
       "  0.95926666,\n",
       "  0.9587,\n",
       "  0.95933336,\n",
       "  0.96113336,\n",
       "  0.9603,\n",
       "  0.96175,\n",
       "  0.96215,\n",
       "  0.96316665,\n",
       "  0.9634333,\n",
       "  0.9621,\n",
       "  0.96265]}"
      ]
     },
     "execution_count": 12,
     "metadata": {},
     "output_type": "execute_result"
    }
   ],
   "source": [
    "history.history"
   ]
  },
  {
   "cell_type": "code",
   "execution_count": 13,
   "metadata": {},
   "outputs": [
    {
     "data": {
      "image/png": "[encoded data removed]",
      "text/plain": [
       "<Figure size 432x288 with 1 Axes>"
      ]
     },
     "metadata": {
      "needs_background": "light"
     },
     "output_type": "display_data"
    }
   ],
   "source": [
    "import matplotlib.pyplot as plt\n",
    "%matplotlib inline\n",
    "\n",
    "loss = history.history['loss']\n",
    "acc = history.history['accuracy']\n",
    "epoches = range(len(acc))\n",
    "\n",
    "plt.plot(epoches, acc, 'ro', label='Training accuracy')\n",
    "plt.legend()\n",
    "plt.show()"
   ]
  },
  {
   "cell_type": "code",
   "execution_count": null,
   "metadata": {},
   "outputs": [],
   "source": []
  }
 ],
 "metadata": {
  "kernelspec": {
   "display_name": "Python 3",
   "language": "python",
   "name": "python3"
  },
  "language_info": {
   "codemirror_mode": {
    "name": "ipython",
    "version": 3
   },
   "file_extension": ".py",
   "mimetype": "text/x-python",
   "name": "python",
   "nbconvert_exporter": "python",
   "pygments_lexer": "ipython3",
   "version": "3.6.6"
  }
 },
 "nbformat": 4,
 "nbformat_minor": 1
}
