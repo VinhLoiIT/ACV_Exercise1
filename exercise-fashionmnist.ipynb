{
 "cells": [
  {
   "cell_type": "code",
   "execution_count": 1,
   "metadata": {
    "_cell_guid": "b1076dfc-b9ad-4769-8c92-a6c4dae69d19",
    "_uuid": "8f2839f25d086af736a60e9eeb907d3b93b6e0e5"
   },
   "outputs": [
    {
     "name": "stdout",
     "output_type": "stream",
     "text": [
      "/kaggle/input/fashionmnist/fashion-mnist_test.csv\n",
      "/kaggle/input/fashionmnist/fashion-mnist_train.csv\n",
      "/kaggle/input/fashionmnist/train-images-idx3-ubyte\n",
      "/kaggle/input/fashionmnist/t10k-images-idx3-ubyte\n",
      "/kaggle/input/fashionmnist/t10k-labels-idx1-ubyte\n",
      "/kaggle/input/fashionmnist/train-labels-idx1-ubyte\n"
     ]
    }
   ],
   "source": [
    "# This Python 3 environment comes with many helpful analytics libraries installed\n",
    "# It is defined by the kaggle/python docker image: https://github.com/kaggle/docker-python\n",
    "# For example, here's several helpful packages to load in \n",
    "\n",
    "import numpy as np # linear algebra\n",
    "import pandas as pd # data processing, CSV file I/O (e.g. pd.read_csv)\n",
    "\n",
    "# Input data files are available in the \"../input/\" directory.\n",
    "# For example, running this (by clicking run or pressing Shift+Enter) will list all files under the input directory\n",
    "\n",
    "import os\n",
    "for dirname, _, filenames in os.walk('/kaggle/input'):\n",
    "    for filename in filenames:\n",
    "        print(os.path.join(dirname, filename))\n",
    "\n",
    "# Any results you write to the current directory are saved as output."
   ]
  },
  {
   "cell_type": "markdown",
   "metadata": {
    "_cell_guid": "79c7e3d0-c299-4dcb-8224-4455121ee9b0",
    "_uuid": "d629ff2d2480ee46fbb7e2d37f6b5fab8052498a",
    "collapsed": true
   },
   "source": [
    "# Load csv file"
   ]
  },
  {
   "cell_type": "code",
   "execution_count": 2,
   "metadata": {},
   "outputs": [],
   "source": [
    "train_csv_path = '/kaggle/input/fashionmnist/fashion-mnist_train.csv'\n",
    "test_csv_path = '/kaggle/input/fashionmnist/fashion-mnist_test.csv'\n",
    "\n",
    "train_df = pd.read_csv(train_csv_path)\n",
    "test_df = pd.read_csv(test_csv_path)\n",
    "\n",
    "# remove first column and convert to numpy array, transform to [0..1]\n",
    "x_train = train_df.drop(columns=['label']).values / 255\n",
    "y_train = train_df['label'].values\n",
    "x_test = test_df.drop(columns=['label']).values / 255\n",
    "y_test = test_df['label'].values"
   ]
  },
  {
   "cell_type": "markdown",
   "metadata": {},
   "source": [
    "# Show a sample image"
   ]
  },
  {
   "cell_type": "code",
   "execution_count": 3,
   "metadata": {},
   "outputs": [
    {
     "data": {
      "text/plain": [
       "<matplotlib.image.AxesImage at 0x7fdcfbedad68>"
      ]
     },
     "execution_count": 3,
     "metadata": {},
     "output_type": "execute_result"
    },
    {
     "data": {
      "image/png": "[encoded data removed]",
      "text/plain": [
       "<Figure size 432x288 with 1 Axes>"
      ]
     },
     "metadata": {
      "needs_background": "light"
     },
     "output_type": "display_data"
    }
   ],
   "source": [
    "import matplotlib.pyplot as plt\n",
    "\n",
    "sample_image = x_train[0,:].reshape((28,28))\n",
    "plt.imshow(sample_image)\n"
   ]
  },
  {
   "cell_type": "markdown",
   "metadata": {},
   "source": [
    "# CNN model"
   ]
  },
  {
   "cell_type": "code",
   "execution_count": 4,
   "metadata": {},
   "outputs": [
    {
     "name": "stderr",
     "output_type": "stream",
     "text": [
      "Using TensorFlow backend.\n"
     ]
    }
   ],
   "source": [
    "import keras\n",
    "from keras.models import Sequential, Model\n",
    "from keras.layers import Conv2D, MaxPooling2D, Flatten, Dense, Dropout, BatchNormalization, Input\n",
    "from keras.optimizers import RMSprop"
   ]
  },
  {
   "cell_type": "code",
   "execution_count": 5,
   "metadata": {},
   "outputs": [],
   "source": [
    "image_rows = 28\n",
    "image_cols = 28\n",
    "batch_size = 32\n",
    "image_shape = (image_rows, image_cols, 1)"
   ]
  },
  {
   "cell_type": "code",
   "execution_count": 6,
   "metadata": {},
   "outputs": [],
   "source": [
    "x_train = x_train.reshape(x_train.shape[0], *image_shape)\n",
    "x_test = x_test.reshape(x_test.shape[0], *image_shape)"
   ]
  },
  {
   "cell_type": "code",
   "execution_count": 7,
   "metadata": {},
   "outputs": [],
   "source": [
    "def create_model():\n",
    "    inputs = Input(shape=(28,28,1))\n",
    "    \n",
    "    # Gated 1\n",
    "    gated_x = Conv2D(filters=32, kernel_size=3, activation='sigmoid')(inputs)\n",
    "    x = Conv2D(filters=32, kernel_size=3, activation='tanh')(inputs)\n",
    "    x = keras.layers.multiply([x,gated_x])\n",
    "    x = MaxPooling2D((2,2))(x)\n",
    "    \n",
    "    # Gated 2\n",
    "    gated_x = Conv2D(filters=64, kernel_size=3, activation='sigmoid', padding='same')(x)\n",
    "    x = Conv2D(filters=64, kernel_size=3, activation='tanh', padding='same')(x)\n",
    "    x = keras.layers.multiply([x,gated_x])\n",
    "    x = MaxPooling2D((2,2))(x)\n",
    "    \n",
    "    x = BatchNormalization()(x)\n",
    "    x = Dropout(0.5)(x)\n",
    "    \n",
    "    x = Flatten()(x)\n",
    "    x = Dense(32, activation='relu')(x)\n",
    "    x = Dense(10, activation='softmax')(x)\n",
    "    \n",
    "    model = Model(inputs=inputs, outputs=x)\n",
    "    \n",
    "    return model"
   ]
  },
  {
   "cell_type": "code",
   "execution_count": 8,
   "metadata": {},
   "outputs": [],
   "source": [
    "model = create_model()"
   ]
  },
  {
   "cell_type": "code",
   "execution_count": 9,
   "metadata": {},
   "outputs": [],
   "source": [
    "model.compile(loss='sparse_categorical_crossentropy', optimizer=RMSprop(), metrics=['accuracy'])"
   ]
  },
  {
   "cell_type": "code",
   "execution_count": 10,
   "metadata": {},
   "outputs": [
    {
     "name": "stdout",
     "output_type": "stream",
     "text": [
      "Epoch 1/50\n",
      "60000/60000 [==============================] - 10s 171us/step - loss: 0.4508 - accuracy: 0.8355\n",
      "Epoch 2/50\n",
      "60000/60000 [==============================] - 7s 122us/step - loss: 0.3139 - accuracy: 0.8859\n",
      "Epoch 3/50\n",
      "60000/60000 [==============================] - 7s 113us/step - loss: 0.2789 - accuracy: 0.8982\n",
      "Epoch 4/50\n",
      "60000/60000 [==============================] - 7s 113us/step - loss: 0.2600 - accuracy: 0.9053\n",
      "Epoch 5/50\n",
      "60000/60000 [==============================] - 7s 113us/step - loss: 0.2461 - accuracy: 0.9105\n",
      "Epoch 6/50\n",
      "60000/60000 [==============================] - 7s 113us/step - loss: 0.2327 - accuracy: 0.9162\n",
      "Epoch 7/50\n",
      "60000/60000 [==============================] - 7s 112us/step - loss: 0.2235 - accuracy: 0.9189\n",
      "Epoch 8/50\n",
      "60000/60000 [==============================] - 7s 113us/step - loss: 0.2167 - accuracy: 0.9215\n",
      "Epoch 9/50\n",
      "60000/60000 [==============================] - 7s 113us/step - loss: 0.2105 - accuracy: 0.9220\n",
      "Epoch 10/50\n",
      "60000/60000 [==============================] - 7s 112us/step - loss: 0.2025 - accuracy: 0.9250\n",
      "Epoch 11/50\n",
      "60000/60000 [==============================] - 7s 113us/step - loss: 0.1974 - accuracy: 0.9263\n",
      "Epoch 12/50\n",
      "60000/60000 [==============================] - 7s 113us/step - loss: 0.1940 - accuracy: 0.9282\n",
      "Epoch 13/50\n",
      "60000/60000 [==============================] - 7s 113us/step - loss: 0.1887 - accuracy: 0.9317\n",
      "Epoch 14/50\n",
      "60000/60000 [==============================] - 7s 113us/step - loss: 0.1857 - accuracy: 0.9315\n",
      "Epoch 15/50\n",
      "60000/60000 [==============================] - 7s 113us/step - loss: 0.1805 - accuracy: 0.9334\n",
      "Epoch 16/50\n",
      "60000/60000 [==============================] - 7s 112us/step - loss: 0.1750 - accuracy: 0.9368\n",
      "Epoch 17/50\n",
      "60000/60000 [==============================] - 7s 112us/step - loss: 0.1722 - accuracy: 0.9362\n",
      "Epoch 18/50\n",
      "60000/60000 [==============================] - 7s 112us/step - loss: 0.1708 - accuracy: 0.9373\n",
      "Epoch 19/50\n",
      "60000/60000 [==============================] - 7s 112us/step - loss: 0.1682 - accuracy: 0.9374\n",
      "Epoch 20/50\n",
      "60000/60000 [==============================] - 7s 112us/step - loss: 0.1630 - accuracy: 0.9399\n",
      "Epoch 21/50\n",
      "60000/60000 [==============================] - 7s 112us/step - loss: 0.1600 - accuracy: 0.9408\n",
      "Epoch 22/50\n",
      "60000/60000 [==============================] - 7s 112us/step - loss: 0.1585 - accuracy: 0.9427\n",
      "Epoch 23/50\n",
      "60000/60000 [==============================] - 7s 112us/step - loss: 0.1558 - accuracy: 0.9427\n",
      "Epoch 24/50\n",
      "60000/60000 [==============================] - 7s 113us/step - loss: 0.1531 - accuracy: 0.9433\n",
      "Epoch 25/50\n",
      "60000/60000 [==============================] - 7s 115us/step - loss: 0.1512 - accuracy: 0.9440\n",
      "Epoch 26/50\n",
      "60000/60000 [==============================] - 7s 113us/step - loss: 0.1500 - accuracy: 0.9451\n",
      "Epoch 27/50\n",
      "60000/60000 [==============================] - 7s 112us/step - loss: 0.1476 - accuracy: 0.9456\n",
      "Epoch 28/50\n",
      "60000/60000 [==============================] - 7s 112us/step - loss: 0.1439 - accuracy: 0.9459\n",
      "Epoch 29/50\n",
      "60000/60000 [==============================] - 7s 112us/step - loss: 0.1448 - accuracy: 0.9456\n",
      "Epoch 30/50\n",
      "60000/60000 [==============================] - 7s 113us/step - loss: 0.1402 - accuracy: 0.9488\n",
      "Epoch 31/50\n",
      "60000/60000 [==============================] - 7s 113us/step - loss: 0.1414 - accuracy: 0.9478\n",
      "Epoch 32/50\n",
      "60000/60000 [==============================] - 7s 112us/step - loss: 0.1388 - accuracy: 0.9485\n",
      "Epoch 33/50\n",
      "60000/60000 [==============================] - 7s 113us/step - loss: 0.1360 - accuracy: 0.9494\n",
      "Epoch 34/50\n",
      "60000/60000 [==============================] - 7s 112us/step - loss: 0.1362 - accuracy: 0.9499\n",
      "Epoch 35/50\n",
      "60000/60000 [==============================] - 7s 112us/step - loss: 0.1323 - accuracy: 0.9512\n",
      "Epoch 36/50\n",
      "60000/60000 [==============================] - 7s 112us/step - loss: 0.1300 - accuracy: 0.9522\n",
      "Epoch 37/50\n",
      "60000/60000 [==============================] - 7s 112us/step - loss: 0.1305 - accuracy: 0.9518\n",
      "Epoch 38/50\n",
      "60000/60000 [==============================] - 7s 113us/step - loss: 0.1296 - accuracy: 0.9523\n",
      "Epoch 39/50\n",
      "60000/60000 [==============================] - 7s 112us/step - loss: 0.1277 - accuracy: 0.9525\n",
      "Epoch 40/50\n",
      "60000/60000 [==============================] - 7s 112us/step - loss: 0.1271 - accuracy: 0.9529\n",
      "Epoch 41/50\n",
      "60000/60000 [==============================] - 7s 111us/step - loss: 0.1265 - accuracy: 0.9531\n",
      "Epoch 42/50\n",
      "60000/60000 [==============================] - 7s 112us/step - loss: 0.1250 - accuracy: 0.9535\n",
      "Epoch 43/50\n",
      "60000/60000 [==============================] - 7s 112us/step - loss: 0.1229 - accuracy: 0.9553\n",
      "Epoch 44/50\n",
      "60000/60000 [==============================] - 7s 112us/step - loss: 0.1236 - accuracy: 0.9553\n",
      "Epoch 45/50\n",
      "60000/60000 [==============================] - 7s 112us/step - loss: 0.1217 - accuracy: 0.9552\n",
      "Epoch 46/50\n",
      "60000/60000 [==============================] - 7s 112us/step - loss: 0.1207 - accuracy: 0.9564\n",
      "Epoch 47/50\n",
      "60000/60000 [==============================] - 7s 121us/step - loss: 0.1224 - accuracy: 0.9549\n",
      "Epoch 48/50\n",
      "31424/60000 [==============>...............] - ETA: 3s - loss: 0.1159 - accuracy: 0.9570"
     ]
    }
   ],
   "source": [
    "max_epochs = 50\n",
    "\n",
    "history = model.fit(\n",
    "    x_train,\n",
    "    y_train,\n",
    "    batch_size=64,\n",
    "    epochs=max_epochs,\n",
    "    verbose=1,\n",
    ")"
   ]
  },
  {
   "cell_type": "code",
   "execution_count": 11,
   "metadata": {},
   "outputs": [
    {
     "name": "stdout",
     "output_type": "stream",
     "text": [
      "10000/10000 [==============================] - 1s 70us/step\n"
     ]
    },
    {
     "data": {
      "text/plain": [
       "[0.24376283545829355, 0.9284999966621399]"
      ]
     },
     "execution_count": 11,
     "metadata": {},
     "output_type": "execute_result"
    }
   ],
   "source": [
    "scores = model.evaluate(x_test, y_test, verbose=1)\n",
    "scores"
   ]
  },
  {
   "cell_type": "markdown",
   "metadata": {},
   "source": [
    "# show miss classified images\n"
   ]
  },
  {
   "cell_type": "code",
   "execution_count": 12,
   "metadata": {},
   "outputs": [
    {
     "data": {
      "text/plain": [
       "array([0, 1, 2, ..., 8, 8, 1])"
      ]
     },
     "execution_count": 12,
     "metadata": {},
     "output_type": "execute_result"
    }
   ],
   "source": [
    "predicts = model.predict(x_test)\n",
    "y_hat = np.argmax(predicts, axis=1)\n",
    "y_hat"
   ]
  },
  {
   "cell_type": "code",
   "execution_count": 13,
   "metadata": {},
   "outputs": [
    {
     "name": "stdout",
     "output_type": "stream",
     "text": [
      "Total miss: 715\n"
     ]
    }
   ],
   "source": [
    "mis_classified_idx = y_test != y_hat\n",
    "print(\"Total miss: {}\".format(len(mis_classified_idx[mis_classified_idx])))"
   ]
  },
  {
   "cell_type": "code",
   "execution_count": 14,
   "metadata": {},
   "outputs": [],
   "source": [
    "labels = ['T-shirt/top','Trouser','Pullover','Dress','Coat','Sandal','Shirt','Sneaker','Bag','Ankle boot']"
   ]
  },
  {
   "cell_type": "code",
   "execution_count": 15,
   "metadata": {},
   "outputs": [
    {
     "name": "stdout",
     "output_type": "stream",
     "text": [
      "Predicted = Sneaker, Groundtruth = Bag\n"
     ]
    },
    {
     "data": {
      "image/png": "[encoded data removed]",
      "text/plain": [
       "<Figure size 432x288 with 1 Axes>"
      ]
     },
     "metadata": {
      "needs_background": "light"
     },
     "output_type": "display_data"
    }
   ],
   "source": [
    "index = 10\n",
    "image = x_test[mis_classified_idx][index]\n",
    "image = np.squeeze(image)\n",
    "plt.imshow(image, cmap='gray')\n",
    "print('Predicted = {}, Groundtruth = {}'.format(labels[y_hat[mis_classified_idx][index]], labels[y_test[mis_classified_idx][index]]))"
   ]
  },
  {
   "cell_type": "code",
   "execution_count": 16,
   "metadata": {},
   "outputs": [
    {
     "data": {
      "image/png": "[encoded data removed]",
      "text/plain": [
       "<Figure size 432x288 with 1 Axes>"
      ]
     },
     "metadata": {
      "needs_background": "light"
     },
     "output_type": "display_data"
    }
   ],
   "source": [
    "import matplotlib.pyplot as plt\n",
    "%matplotlib inline\n",
    "\n",
    "loss = history.history['loss']\n",
    "acc = history.history['accuracy']\n",
    "epoches = range(len(acc))\n",
    "\n",
    "plt.plot(epoches, acc, 'ro', label='Training accuracy')\n",
    "plt.legend()\n",
    "plt.show()"
   ]
  },
  {
   "cell_type": "code",
   "execution_count": null,
   "metadata": {},
   "outputs": [],
   "source": []
  }
 ],
 "metadata": {
  "kernelspec": {
   "display_name": "Python 3",
   "language": "python",
   "name": "python3"
  },
  "language_info": {
   "codemirror_mode": {
    "name": "ipython",
    "version": 3
   },
   "file_extension": ".py",
   "mimetype": "text/x-python",
   "name": "python",
   "nbconvert_exporter": "python",
   "pygments_lexer": "ipython3",
   "version": "3.6.6"
  }
 },
 "nbformat": 4,
 "nbformat_minor": 1
}
