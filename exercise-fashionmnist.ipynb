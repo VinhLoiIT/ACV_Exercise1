{
 "cells": [
  {
   "cell_type": "code",
   "execution_count": 1,
   "metadata": {
    "_cell_guid": "b1076dfc-b9ad-4769-8c92-a6c4dae69d19",
    "_uuid": "8f2839f25d086af736a60e9eeb907d3b93b6e0e5"
   },
   "outputs": [
    {
     "name": "stdout",
     "output_type": "stream",
     "text": [
      "/kaggle/input/fashionmnist/t10k-images-idx3-ubyte\n",
      "/kaggle/input/fashionmnist/train-images-idx3-ubyte\n",
      "/kaggle/input/fashionmnist/fashion-mnist_train.csv\n",
      "/kaggle/input/fashionmnist/train-labels-idx1-ubyte\n",
      "/kaggle/input/fashionmnist/fashion-mnist_test.csv\n",
      "/kaggle/input/fashionmnist/t10k-labels-idx1-ubyte\n"
     ]
    }
   ],
   "source": [
    "# This Python 3 environment comes with many helpful analytics libraries installed\n",
    "# It is defined by the kaggle/python docker image: https://github.com/kaggle/docker-python\n",
    "# For example, here's several helpful packages to load in \n",
    "\n",
    "import numpy as np # linear algebra\n",
    "import pandas as pd # data processing, CSV file I/O (e.g. pd.read_csv)\n",
    "\n",
    "# Input data files are available in the \"../input/\" directory.\n",
    "# For example, running this (by clicking run or pressing Shift+Enter) will list all files under the input directory\n",
    "\n",
    "import os\n",
    "for dirname, _, filenames in os.walk('/kaggle/input'):\n",
    "    for filename in filenames:\n",
    "        print(os.path.join(dirname, filename))\n",
    "\n",
    "# Any results you write to the current directory are saved as output."
   ]
  },
  {
   "cell_type": "markdown",
   "metadata": {
    "_cell_guid": "79c7e3d0-c299-4dcb-8224-4455121ee9b0",
    "_uuid": "d629ff2d2480ee46fbb7e2d37f6b5fab8052498a",
    "collapsed": true
   },
   "source": [
    "# Load csv file"
   ]
  },
  {
   "cell_type": "code",
   "execution_count": 2,
   "metadata": {},
   "outputs": [],
   "source": [
    "train_csv_path = '/kaggle/input/fashionmnist/fashion-mnist_train.csv'\n",
    "test_csv_path = '/kaggle/input/fashionmnist/fashion-mnist_test.csv'\n",
    "\n",
    "train_df = pd.read_csv(train_csv_path)\n",
    "test_df = pd.read_csv(test_csv_path)\n",
    "\n",
    "# remove first column and convert to numpy array, transform to [0..1]\n",
    "x_train = train_df.drop(columns=['label']).values / 255\n",
    "y_train = train_df['label'].values\n",
    "x_test = test_df.drop(columns=['label']).values / 255\n",
    "y_test = test_df['label'].values"
   ]
  },
  {
   "cell_type": "code",
   "execution_count": 3,
   "metadata": {},
   "outputs": [],
   "source": [
    "labels = ['T-shirt/top','Trouser','Pullover','Dress','Coat','Sandal','Shirt','Sneaker','Bag','Ankle boot']"
   ]
  },
  {
   "cell_type": "markdown",
   "metadata": {},
   "source": [
    "# Show a sample image"
   ]
  },
  {
   "cell_type": "code",
   "execution_count": 4,
   "metadata": {},
   "outputs": [
    {
     "data": {
      "text/plain": [
       "<matplotlib.image.AxesImage at 0x7f3095d84eb8>"
      ]
     },
     "execution_count": 4,
     "metadata": {},
     "output_type": "execute_result"
    },
    {
     "data": {
      "image/png": "[encoded data removed]",
      "text/plain": [
       "<Figure size 432x288 with 1 Axes>"
      ]
     },
     "metadata": {
      "needs_background": "light"
     },
     "output_type": "display_data"
    }
   ],
   "source": [
    "import matplotlib.pyplot as plt\n",
    "\n",
    "sample_image = x_train[0,:].reshape((28,28))\n",
    "plt.imshow(sample_image)\n"
   ]
  },
  {
   "cell_type": "markdown",
   "metadata": {},
   "source": [
    "# CNN model"
   ]
  },
  {
   "cell_type": "code",
   "execution_count": 5,
   "metadata": {},
   "outputs": [
    {
     "name": "stderr",
     "output_type": "stream",
     "text": [
      "Using TensorFlow backend.\n"
     ]
    }
   ],
   "source": [
    "import keras\n",
    "from keras.models import Sequential, Model\n",
    "from keras.layers import Conv2D, MaxPooling2D, Flatten, Dense, Dropout, BatchNormalization, Input\n",
    "from keras.optimizers import RMSprop, Adam"
   ]
  },
  {
   "cell_type": "code",
   "execution_count": 6,
   "metadata": {},
   "outputs": [],
   "source": [
    "image_rows = 28\n",
    "image_cols = 28\n",
    "batch_size = 32\n",
    "image_shape = (image_rows, image_cols, 1)"
   ]
  },
  {
   "cell_type": "code",
   "execution_count": 7,
   "metadata": {},
   "outputs": [],
   "source": [
    "x_train = x_train.reshape(x_train.shape[0], *image_shape)\n",
    "x_test = x_test.reshape(x_test.shape[0], *image_shape)"
   ]
  },
  {
   "cell_type": "code",
   "execution_count": 8,
   "metadata": {},
   "outputs": [],
   "source": [
    "# augmentation\n",
    "aug_train_x = np.array([np.clip(np.random.normal(0,0.1,(28,28,1)) + image,0,1) for image in x_train])\n",
    "aug_train_y = np.array([y for y in y_train])"
   ]
  },
  {
   "cell_type": "code",
   "execution_count": 9,
   "metadata": {},
   "outputs": [
    {
     "name": "stdout",
     "output_type": "stream",
     "text": [
      "Ankle boot\n"
     ]
    },
    {
     "data": {
      "image/png": "[encoded data removed]",
      "text/plain": [
       "<Figure size 432x288 with 2 Axes>"
      ]
     },
     "metadata": {
      "needs_background": "light"
     },
     "output_type": "display_data"
    }
   ],
   "source": [
    "# show an example\n",
    "index = 1\n",
    "plt.subplot(121)\n",
    "plt.imshow(np.squeeze(x_train[index]))\n",
    "plt.subplot(122)\n",
    "plt.imshow(np.squeeze(aug_train_x[index]))\n",
    "print(labels[aug_train_y[index]])"
   ]
  },
  {
   "cell_type": "code",
   "execution_count": 10,
   "metadata": {},
   "outputs": [
    {
     "name": "stdout",
     "output_type": "stream",
     "text": [
      "120000 120000\n"
     ]
    }
   ],
   "source": [
    "x_train = np.concatenate((x_train, aug_train_x), axis=0)\n",
    "y_train = np.concatenate((y_train, aug_train_y), axis=0)\n",
    "print(len(x_train), len(y_train))"
   ]
  },
  {
   "cell_type": "code",
   "execution_count": 11,
   "metadata": {},
   "outputs": [],
   "source": [
    "def create_model():\n",
    "    inputs = Input(shape=(28,28,1))\n",
    "    \n",
    "    # Gated 1\n",
    "    gated_x = Conv2D(filters=32, kernel_size=3, activation='sigmoid', padding='same')(inputs)\n",
    "    x = Conv2D(filters=32, kernel_size=3, activation='tanh', padding='same')(inputs)\n",
    "    x = keras.layers.multiply([x,gated_x])\n",
    "    x = MaxPooling2D((2,2))(x)\n",
    "    \n",
    "    # Gated 2\n",
    "    gated_x = Conv2D(filters=64, kernel_size=3, activation='sigmoid', padding='same')(x)\n",
    "    x = Conv2D(filters=64, kernel_size=3, activation='tanh', padding='same')(x)\n",
    "    x = keras.layers.multiply([x,gated_x])\n",
    "    x = MaxPooling2D((2,2))(x)\n",
    "    \n",
    "    # Gated 3\n",
    "    gated_x = Conv2D(filters=128, kernel_size=3, activation='sigmoid', padding='same')(x)\n",
    "    x = Conv2D(filters=128, kernel_size=3, activation='tanh', padding='same')(x)\n",
    "    x = keras.layers.multiply([x,gated_x])\n",
    "    x = MaxPooling2D((2,2))(x)\n",
    "    \n",
    "    x = Conv2D(filters=256, kernel_size=3, activation='relu', padding='same')(x)\n",
    "    x = BatchNormalization()(x)\n",
    "    x = Dropout(0.5)(x)\n",
    "\n",
    "    x = Conv2D(filters=256, kernel_size=3, activation='relu', padding='same')(x)\n",
    "    x = BatchNormalization()(x)\n",
    "    x = Dropout(0.5)(x)\n",
    "    \n",
    "    x = Flatten()(x)\n",
    "    x = Dense(128, activation='relu')(x)\n",
    "    x = Dense(10, activation='softmax')(x)\n",
    "    \n",
    "    model = Model(inputs=inputs, outputs=x)\n",
    "    \n",
    "    return model"
   ]
  },
  {
   "cell_type": "code",
   "execution_count": 12,
   "metadata": {},
   "outputs": [],
   "source": [
    "model = create_model()"
   ]
  },
  {
   "cell_type": "code",
   "execution_count": 13,
   "metadata": {},
   "outputs": [],
   "source": [
    "model.compile(loss='sparse_categorical_crossentropy', optimizer=Adam(), metrics=['accuracy'])"
   ]
  },
  {
   "cell_type": "code",
   "execution_count": 14,
   "metadata": {},
   "outputs": [
    {
     "name": "stdout",
     "output_type": "stream",
     "text": [
      "Train on 96000 samples, validate on 24000 samples\n",
      "Epoch 1/20\n",
      "96000/96000 [==============================] - 21s 224us/step - loss: 0.4590 - accuracy: 0.8315 - val_loss: 0.3062 - val_accuracy: 0.8859\n",
      "Epoch 2/20\n",
      "96000/96000 [==============================] - 17s 179us/step - loss: 0.2890 - accuracy: 0.8938 - val_loss: 0.2980 - val_accuracy: 0.8904\n",
      "Epoch 3/20\n",
      "96000/96000 [==============================] - 18s 187us/step - loss: 0.2424 - accuracy: 0.9113 - val_loss: 0.2572 - val_accuracy: 0.9052\n",
      "Epoch 4/20\n",
      "96000/96000 [==============================] - 17s 178us/step - loss: 0.2125 - accuracy: 0.9217 - val_loss: 0.2214 - val_accuracy: 0.9172\n",
      "Epoch 5/20\n",
      "96000/96000 [==============================] - 17s 177us/step - loss: 0.1858 - accuracy: 0.9310 - val_loss: 0.2117 - val_accuracy: 0.9222\n",
      "Epoch 6/20\n",
      "96000/96000 [==============================] - 17s 181us/step - loss: 0.1612 - accuracy: 0.9410 - val_loss: 0.2086 - val_accuracy: 0.9230\n",
      "Epoch 7/20\n",
      "96000/96000 [==============================] - 18s 182us/step - loss: 0.1459 - accuracy: 0.9462 - val_loss: 0.2006 - val_accuracy: 0.9273\n",
      "Epoch 8/20\n",
      "96000/96000 [==============================] - 17s 179us/step - loss: 0.1275 - accuracy: 0.9526 - val_loss: 0.2044 - val_accuracy: 0.9272\n",
      "Epoch 9/20\n",
      "96000/96000 [==============================] - 17s 178us/step - loss: 0.1128 - accuracy: 0.9580 - val_loss: 0.2051 - val_accuracy: 0.9288\n",
      "Epoch 10/20\n",
      "96000/96000 [==============================] - 17s 179us/step - loss: 0.1000 - accuracy: 0.9634 - val_loss: 0.2069 - val_accuracy: 0.9335\n",
      "Epoch 11/20\n",
      "96000/96000 [==============================] - 17s 177us/step - loss: 0.0876 - accuracy: 0.9673 - val_loss: 0.2018 - val_accuracy: 0.9287\n",
      "Epoch 12/20\n",
      "96000/96000 [==============================] - 17s 178us/step - loss: 0.0790 - accuracy: 0.9713 - val_loss: 0.2007 - val_accuracy: 0.9364\n",
      "Epoch 13/20\n",
      "96000/96000 [==============================] - 17s 177us/step - loss: 0.0734 - accuracy: 0.9726 - val_loss: 0.1754 - val_accuracy: 0.9407\n",
      "Epoch 14/20\n",
      "96000/96000 [==============================] - 17s 179us/step - loss: 0.0656 - accuracy: 0.9760 - val_loss: 0.2103 - val_accuracy: 0.9376\n",
      "Epoch 15/20\n",
      "96000/96000 [==============================] - 17s 178us/step - loss: 0.0594 - accuracy: 0.9784 - val_loss: 0.1882 - val_accuracy: 0.9415\n",
      "Epoch 16/20\n",
      "96000/96000 [==============================] - 17s 178us/step - loss: 0.0524 - accuracy: 0.9808 - val_loss: 0.2098 - val_accuracy: 0.9379\n",
      "Epoch 17/20\n",
      "96000/96000 [==============================] - 17s 178us/step - loss: 0.0497 - accuracy: 0.9820 - val_loss: 0.2204 - val_accuracy: 0.9283\n",
      "Epoch 18/20\n",
      "96000/96000 [==============================] - 17s 177us/step - loss: 0.0468 - accuracy: 0.9834 - val_loss: 0.2385 - val_accuracy: 0.9350\n",
      "Epoch 19/20\n",
      "46656/96000 [=============>................] - ETA: 8s - loss: 0.0392 - accuracy: 0.9860"
     ]
    }
   ],
   "source": [
    "max_epochs = 20\n",
    "batch_size = 64\n",
    "history = model.fit(\n",
    "    x_train,\n",
    "    y_train,\n",
    "    batch_size=batch_size,\n",
    "    epochs=max_epochs,\n",
    "    verbose=1,\n",
    "    validation_split=.2\n",
    ")"
   ]
  },
  {
   "cell_type": "code",
   "execution_count": 15,
   "metadata": {},
   "outputs": [
    {
     "name": "stdout",
     "output_type": "stream",
     "text": [
      "10000/10000 [==============================] - 1s 122us/step\n"
     ]
    },
    {
     "data": {
      "text/plain": [
       "[0.3373794150532689, 0.9277999997138977]"
      ]
     },
     "execution_count": 15,
     "metadata": {},
     "output_type": "execute_result"
    }
   ],
   "source": [
    "scores = model.evaluate(x_test, y_test, verbose=1)\n",
    "scores"
   ]
  },
  {
   "cell_type": "markdown",
   "metadata": {},
   "source": [
    "# show miss classified images\n"
   ]
  },
  {
   "cell_type": "code",
   "execution_count": 16,
   "metadata": {},
   "outputs": [
    {
     "data": {
      "text/plain": [
       "array([0, 1, 2, ..., 8, 8, 1])"
      ]
     },
     "execution_count": 16,
     "metadata": {},
     "output_type": "execute_result"
    }
   ],
   "source": [
    "predicts = model.predict(x_test)\n",
    "y_hat = np.argmax(predicts, axis=1)\n",
    "y_hat"
   ]
  },
  {
   "cell_type": "code",
   "execution_count": 17,
   "metadata": {},
   "outputs": [
    {
     "name": "stdout",
     "output_type": "stream",
     "text": [
      "Total miss: 722\n"
     ]
    }
   ],
   "source": [
    "mis_classified_idx = y_test != y_hat\n",
    "print(\"Total miss: {}\".format(len(mis_classified_idx[mis_classified_idx])))"
   ]
  },
  {
   "cell_type": "code",
   "execution_count": 18,
   "metadata": {},
   "outputs": [
    {
     "name": "stdout",
     "output_type": "stream",
     "text": [
      "Predicted = Shirt, Groundtruth = Pullover\n"
     ]
    },
    {
     "data": {
      "image/png": "[encoded data removed]",
      "text/plain": [
       "<Figure size 432x288 with 1 Axes>"
      ]
     },
     "metadata": {
      "needs_background": "light"
     },
     "output_type": "display_data"
    }
   ],
   "source": [
    "index = 100\n",
    "image = x_test[mis_classified_idx][index]\n",
    "image = np.squeeze(image)\n",
    "plt.imshow(image, cmap='gray')\n",
    "print('Predicted = {}, Groundtruth = {}'.format(labels[y_hat[mis_classified_idx][index]], labels[y_test[mis_classified_idx][index]]))"
   ]
  },
  {
   "cell_type": "code",
   "execution_count": 19,
   "metadata": {},
   "outputs": [
    {
     "data": {
      "image/png": "[encoded data removed]",
      "text/plain": [
       "<Figure size 432x288 with 1 Axes>"
      ]
     },
     "metadata": {
      "needs_background": "light"
     },
     "output_type": "display_data"
    }
   ],
   "source": [
    "import matplotlib.pyplot as plt\n",
    "%matplotlib inline\n",
    "\n",
    "loss = history.history['loss']\n",
    "acc = history.history['accuracy']\n",
    "epoches = range(len(acc))\n",
    "\n",
    "plt.plot(epoches, acc, 'ro', label='Training accuracy')\n",
    "plt.legend()\n",
    "plt.show()"
   ]
  },
  {
   "cell_type": "code",
   "execution_count": null,
   "metadata": {},
   "outputs": [],
   "source": []
  }
 ],
 "metadata": {
  "kernelspec": {
   "display_name": "Python 3",
   "language": "python",
   "name": "python3"
  },
  "language_info": {
   "codemirror_mode": {
    "name": "ipython",
    "version": 3
   },
   "file_extension": ".py",
   "mimetype": "text/x-python",
   "name": "python",
   "nbconvert_exporter": "python",
   "pygments_lexer": "ipython3",
   "version": "3.6.6"
  }
 },
 "nbformat": 4,
 "nbformat_minor": 1
}
