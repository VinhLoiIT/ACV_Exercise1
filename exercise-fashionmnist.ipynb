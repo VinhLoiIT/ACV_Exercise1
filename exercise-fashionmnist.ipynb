{
 "cells": [
  {
   "cell_type": "code",
   "execution_count": 1,
   "metadata": {
    "_cell_guid": "b1076dfc-b9ad-4769-8c92-a6c4dae69d19",
    "_uuid": "8f2839f25d086af736a60e9eeb907d3b93b6e0e5"
   },
   "outputs": [
    {
     "name": "stdout",
     "output_type": "stream",
     "text": [
      "/kaggle/input/fashionmnist/t10k-images-idx3-ubyte\n",
      "/kaggle/input/fashionmnist/train-images-idx3-ubyte\n",
      "/kaggle/input/fashionmnist/fashion-mnist_train.csv\n",
      "/kaggle/input/fashionmnist/train-labels-idx1-ubyte\n",
      "/kaggle/input/fashionmnist/fashion-mnist_test.csv\n",
      "/kaggle/input/fashionmnist/t10k-labels-idx1-ubyte\n"
     ]
    }
   ],
   "source": [
    "# This Python 3 environment comes with many helpful analytics libraries installed\n",
    "# It is defined by the kaggle/python docker image: https://github.com/kaggle/docker-python\n",
    "# For example, here's several helpful packages to load in \n",
    "\n",
    "import numpy as np # linear algebra\n",
    "import pandas as pd # data processing, CSV file I/O (e.g. pd.read_csv)\n",
    "\n",
    "# Input data files are available in the \"../input/\" directory.\n",
    "# For example, running this (by clicking run or pressing Shift+Enter) will list all files under the input directory\n",
    "\n",
    "import os\n",
    "for dirname, _, filenames in os.walk('/kaggle/input'):\n",
    "    for filename in filenames:\n",
    "        print(os.path.join(dirname, filename))\n",
    "\n",
    "# Any results you write to the current directory are saved as output."
   ]
  },
  {
   "cell_type": "markdown",
   "metadata": {
    "_cell_guid": "79c7e3d0-c299-4dcb-8224-4455121ee9b0",
    "_uuid": "d629ff2d2480ee46fbb7e2d37f6b5fab8052498a",
    "collapsed": true
   },
   "source": [
    "# Load csv file"
   ]
  },
  {
   "cell_type": "code",
   "execution_count": 2,
   "metadata": {},
   "outputs": [],
   "source": [
    "train_csv_path = '/kaggle/input/fashionmnist/fashion-mnist_train.csv'\n",
    "test_csv_path = '/kaggle/input/fashionmnist/fashion-mnist_test.csv'\n",
    "\n",
    "train_df = pd.read_csv(train_csv_path)\n",
    "test_df = pd.read_csv(test_csv_path)\n",
    "\n",
    "# remove first column and convert to numpy array, transform to [0..1]\n",
    "x_train = train_df.drop(columns=['label']).values / 255\n",
    "y_train = train_df['label'].values\n",
    "x_test = test_df.drop(columns=['label']).values / 255\n",
    "y_test = test_df['label'].values"
   ]
  },
  {
   "cell_type": "code",
   "execution_count": 3,
   "metadata": {},
   "outputs": [],
   "source": [
    "labels = ['T-shirt/top','Trouser','Pullover','Dress','Coat','Sandal','Shirt','Sneaker','Bag','Ankle boot']"
   ]
  },
  {
   "cell_type": "markdown",
   "metadata": {},
   "source": [
    "# Show a sample image"
   ]
  },
  {
   "cell_type": "code",
   "execution_count": 4,
   "metadata": {},
   "outputs": [
    {
     "data": {
      "text/plain": [
       "<matplotlib.image.AxesImage at 0x7fc78d0f4f28>"
      ]
     },
     "execution_count": 4,
     "metadata": {},
     "output_type": "execute_result"
    },
    {
     "data": {
      "image/png": "[encoded data removed]",
      "text/plain": [
       "<Figure size 432x288 with 1 Axes>"
      ]
     },
     "metadata": {
      "needs_background": "light"
     },
     "output_type": "display_data"
    }
   ],
   "source": [
    "import matplotlib.pyplot as plt\n",
    "\n",
    "sample_image = x_train[0,:].reshape((28,28))\n",
    "plt.imshow(sample_image)\n"
   ]
  },
  {
   "cell_type": "markdown",
   "metadata": {},
   "source": [
    "# CNN model"
   ]
  },
  {
   "cell_type": "code",
   "execution_count": 5,
   "metadata": {},
   "outputs": [
    {
     "name": "stderr",
     "output_type": "stream",
     "text": [
      "Using TensorFlow backend.\n"
     ]
    }
   ],
   "source": [
    "import keras\n",
    "from keras.models import Sequential, Model\n",
    "from keras.layers import Conv2D, MaxPooling2D, Flatten, Dense, Dropout, BatchNormalization, Input\n",
    "from keras.optimizers import RMSprop"
   ]
  },
  {
   "cell_type": "code",
   "execution_count": 6,
   "metadata": {},
   "outputs": [],
   "source": [
    "image_rows = 28\n",
    "image_cols = 28\n",
    "batch_size = 32\n",
    "image_shape = (image_rows, image_cols, 1)"
   ]
  },
  {
   "cell_type": "code",
   "execution_count": 7,
   "metadata": {},
   "outputs": [],
   "source": [
    "x_train = x_train.reshape(x_train.shape[0], *image_shape)\n",
    "x_test = x_test.reshape(x_test.shape[0], *image_shape)"
   ]
  },
  {
   "cell_type": "code",
   "execution_count": 8,
   "metadata": {},
   "outputs": [],
   "source": [
    "# augmentation\n",
    "aug_train_x = np.array([np.clip(np.random.normal(0,0.1,(28,28,1)) + image,0,1) for image in x_train])\n",
    "aug_train_y = np.array([y for y in y_train])"
   ]
  },
  {
   "cell_type": "code",
   "execution_count": 9,
   "metadata": {},
   "outputs": [
    {
     "name": "stdout",
     "output_type": "stream",
     "text": [
      "Ankle boot\n"
     ]
    },
    {
     "data": {
      "image/png": "[encoded data removed]",
      "text/plain": [
       "<Figure size 432x288 with 2 Axes>"
      ]
     },
     "metadata": {
      "needs_background": "light"
     },
     "output_type": "display_data"
    }
   ],
   "source": [
    "# show an example\n",
    "index = 1\n",
    "plt.subplot(121)\n",
    "plt.imshow(np.squeeze(x_train[index]))\n",
    "plt.subplot(122)\n",
    "plt.imshow(np.squeeze(aug_train_x[index]))\n",
    "print(labels[aug_train_y[index]])"
   ]
  },
  {
   "cell_type": "code",
   "execution_count": 10,
   "metadata": {},
   "outputs": [
    {
     "name": "stdout",
     "output_type": "stream",
     "text": [
      "120000 120000\n"
     ]
    }
   ],
   "source": [
    "x_train = np.concatenate((x_train, aug_train_x), axis=0)\n",
    "y_train = np.concatenate((y_train, aug_train_y), axis=0)\n",
    "print(len(x_train), len(y_train))"
   ]
  },
  {
   "cell_type": "code",
   "execution_count": 11,
   "metadata": {},
   "outputs": [],
   "source": [
    "def create_model():\n",
    "    inputs = Input(shape=(28,28,1))\n",
    "    \n",
    "    # Gated 1\n",
    "    gated_x = Conv2D(filters=32, kernel_size=3, activation='sigmoid')(inputs)\n",
    "    x = Conv2D(filters=32, kernel_size=3, activation='tanh')(inputs)\n",
    "    x = keras.layers.multiply([x,gated_x])\n",
    "    x = MaxPooling2D((2,2))(x)\n",
    "    \n",
    "    # Gated 2\n",
    "    gated_x = Conv2D(filters=64, kernel_size=3, activation='sigmoid', padding='same')(x)\n",
    "    x = Conv2D(filters=64, kernel_size=3, activation='tanh', padding='same')(x)\n",
    "    x = keras.layers.multiply([x,gated_x])\n",
    "    x = MaxPooling2D((2,2))(x)\n",
    "    \n",
    "    # Gated 3\n",
    "    gated_x = Conv2D(filters=128, kernel_size=3, activation='sigmoid', padding='same')(x)\n",
    "    x = Conv2D(filters=128, kernel_size=3, activation='tanh', padding='same')(x)\n",
    "    x = keras.layers.multiply([x,gated_x])\n",
    "    x = MaxPooling2D((2,2))(x)\n",
    "    \n",
    "    x = Conv2D(filters=128, kernel_size=3, activation='relu')(x)\n",
    "    x = BatchNormalization()(x)\n",
    "    x = Dropout(0.5)(x)\n",
    "    \n",
    "    x = Flatten()(x)\n",
    "    x = Dense(64, activation='relu')(x)\n",
    "    x = Dense(10, activation='softmax')(x)\n",
    "    \n",
    "    model = Model(inputs=inputs, outputs=x)\n",
    "    \n",
    "    return model"
   ]
  },
  {
   "cell_type": "code",
   "execution_count": 12,
   "metadata": {},
   "outputs": [],
   "source": [
    "model = create_model()"
   ]
  },
  {
   "cell_type": "code",
   "execution_count": 13,
   "metadata": {},
   "outputs": [],
   "source": [
    "model.compile(loss='sparse_categorical_crossentropy', optimizer=RMSprop(), metrics=['accuracy'])"
   ]
  },
  {
   "cell_type": "code",
   "execution_count": 14,
   "metadata": {},
   "outputs": [
    {
     "name": "stdout",
     "output_type": "stream",
     "text": [
      "Epoch 1/50\n",
      "120000/120000 [==============================] - 11s 91us/step - loss: 0.4388 - accuracy: 0.8411\n",
      "Epoch 2/50\n",
      "120000/120000 [==============================] - 9s 74us/step - loss: 0.2894 - accuracy: 0.8948\n",
      "Epoch 3/50\n",
      "120000/120000 [==============================] - 9s 75us/step - loss: 0.2436 - accuracy: 0.9109\n",
      "Epoch 4/50\n",
      "120000/120000 [==============================] - 9s 74us/step - loss: 0.2136 - accuracy: 0.9208\n",
      "Epoch 5/50\n",
      "120000/120000 [==============================] - 9s 74us/step - loss: 0.1879 - accuracy: 0.9303\n",
      "Epoch 6/50\n",
      "120000/120000 [==============================] - 9s 74us/step - loss: 0.1666 - accuracy: 0.9380\n",
      "Epoch 7/50\n",
      "120000/120000 [==============================] - 9s 74us/step - loss: 0.1495 - accuracy: 0.9442\n",
      "Epoch 8/50\n",
      "120000/120000 [==============================] - 9s 75us/step - loss: 0.1319 - accuracy: 0.9509\n",
      "Epoch 9/50\n",
      "120000/120000 [==============================] - 9s 74us/step - loss: 0.1197 - accuracy: 0.9562\n",
      "Epoch 10/50\n",
      "120000/120000 [==============================] - 9s 75us/step - loss: 0.1047 - accuracy: 0.9611\n",
      "Epoch 11/50\n",
      "120000/120000 [==============================] - 9s 74us/step - loss: 0.0944 - accuracy: 0.9650\n",
      "Epoch 12/50\n",
      "120000/120000 [==============================] - 9s 74us/step - loss: 0.0847 - accuracy: 0.9684\n",
      "Epoch 13/50\n",
      "120000/120000 [==============================] - 9s 79us/step - loss: 0.0759 - accuracy: 0.9717\n",
      "Epoch 14/50\n",
      "120000/120000 [==============================] - 9s 75us/step - loss: 0.0700 - accuracy: 0.9741\n",
      "Epoch 15/50\n",
      "120000/120000 [==============================] - 9s 75us/step - loss: 0.0655 - accuracy: 0.9757\n",
      "Epoch 16/50\n",
      "120000/120000 [==============================] - 9s 75us/step - loss: 0.0573 - accuracy: 0.9792\n",
      "Epoch 17/50\n",
      "120000/120000 [==============================] - 9s 75us/step - loss: 0.0523 - accuracy: 0.9807\n",
      "Epoch 18/50\n",
      "120000/120000 [==============================] - 9s 74us/step - loss: 0.0485 - accuracy: 0.9826\n",
      "Epoch 19/50\n",
      "120000/120000 [==============================] - 9s 75us/step - loss: 0.0471 - accuracy: 0.9833\n",
      "Epoch 20/50\n",
      "120000/120000 [==============================] - 9s 75us/step - loss: 0.0432 - accuracy: 0.9846\n",
      "Epoch 21/50\n",
      "120000/120000 [==============================] - 9s 75us/step - loss: 0.0407 - accuracy: 0.9855\n",
      "Epoch 22/50\n",
      "120000/120000 [==============================] - 9s 75us/step - loss: 0.0377 - accuracy: 0.9868\n",
      "Epoch 23/50\n",
      "120000/120000 [==============================] - 9s 74us/step - loss: 0.0376 - accuracy: 0.9868\n",
      "Epoch 24/50\n",
      "120000/120000 [==============================] - 9s 75us/step - loss: 0.0357 - accuracy: 0.9875\n",
      "Epoch 25/50\n",
      "120000/120000 [==============================] - 9s 75us/step - loss: 0.0334 - accuracy: 0.9884\n",
      "Epoch 26/50\n",
      "120000/120000 [==============================] - 9s 75us/step - loss: 0.0317 - accuracy: 0.9885\n",
      "Epoch 27/50\n",
      "120000/120000 [==============================] - 9s 75us/step - loss: 0.0299 - accuracy: 0.9896\n",
      "Epoch 28/50\n",
      "120000/120000 [==============================] - 9s 76us/step - loss: 0.0292 - accuracy: 0.9899\n",
      "Epoch 29/50\n",
      "120000/120000 [==============================] - 9s 75us/step - loss: 0.0275 - accuracy: 0.9902\n",
      "Epoch 30/50\n",
      "120000/120000 [==============================] - 9s 75us/step - loss: 0.0255 - accuracy: 0.9911\n",
      "Epoch 31/50\n",
      "120000/120000 [==============================] - 9s 75us/step - loss: 0.0253 - accuracy: 0.9912\n",
      "Epoch 32/50\n",
      "120000/120000 [==============================] - 9s 74us/step - loss: 0.0252 - accuracy: 0.9912\n",
      "Epoch 33/50\n",
      "120000/120000 [==============================] - 9s 75us/step - loss: 0.0229 - accuracy: 0.9919\n",
      "Epoch 34/50\n",
      "120000/120000 [==============================] - 9s 76us/step - loss: 0.0158 - accuracy: 0.9948\n"
     ]
    }
   ],
   "source": [
    "max_epochs = 50\n",
    "batch_size = 128\n",
    "history = model.fit(\n",
    "    x_train,\n",
    "    y_train,\n",
    "    batch_size=batch_size,\n",
    "    epochs=max_epochs,\n",
    "    verbose=1,\n",
    ")"
   ]
  },
  {
   "cell_type": "code",
   "execution_count": 15,
   "metadata": {},
   "outputs": [
    {
     "name": "stdout",
     "output_type": "stream",
     "text": [
      "10000/10000 [==============================] - 1s 104us/step\n"
     ]
    },
    {
     "data": {
      "text/plain": [
       "[0.6503282891280192, 0.9214000105857849]"
      ]
     },
     "execution_count": 15,
     "metadata": {},
     "output_type": "execute_result"
    }
   ],
   "source": [
    "scores = model.evaluate(x_test, y_test, verbose=1)\n",
    "scores"
   ]
  },
  {
   "cell_type": "markdown",
   "metadata": {},
   "source": [
    "# show miss classified images\n"
   ]
  },
  {
   "cell_type": "code",
   "execution_count": 16,
   "metadata": {},
   "outputs": [
    {
     "data": {
      "text/plain": [
       "array([0, 1, 2, ..., 8, 8, 1])"
      ]
     },
     "execution_count": 16,
     "metadata": {},
     "output_type": "execute_result"
    }
   ],
   "source": [
    "predicts = model.predict(x_test)\n",
    "y_hat = np.argmax(predicts, axis=1)\n",
    "y_hat"
   ]
  },
  {
   "cell_type": "code",
   "execution_count": 17,
   "metadata": {},
   "outputs": [
    {
     "name": "stdout",
     "output_type": "stream",
     "text": [
      "Total miss: 786\n"
     ]
    }
   ],
   "source": [
    "mis_classified_idx = y_test != y_hat\n",
    "print(\"Total miss: {}\".format(len(mis_classified_idx[mis_classified_idx])))"
   ]
  },
  {
   "cell_type": "code",
   "execution_count": 18,
   "metadata": {},
   "outputs": [
    {
     "name": "stdout",
     "output_type": "stream",
     "text": [
      "Predicted = Sandal, Groundtruth = Ankle boot\n"
     ]
    },
    {
     "data": {
      "image/png": "[encoded data removed]",
      "text/plain": [
       "<Figure size 432x288 with 1 Axes>"
      ]
     },
     "metadata": {
      "needs_background": "light"
     },
     "output_type": "display_data"
    }
   ],
   "source": [
    "index = 100\n",
    "image = x_test[mis_classified_idx][index]\n",
    "image = np.squeeze(image)\n",
    "plt.imshow(image, cmap='gray')\n",
    "print('Predicted = {}, Groundtruth = {}'.format(labels[y_hat[mis_classified_idx][index]], labels[y_test[mis_classified_idx][index]]))"
   ]
  },
  {
   "cell_type": "code",
   "execution_count": 19,
   "metadata": {},
   "outputs": [
    {
     "data": {
      "image/png": "[encoded data removed]",
      "text/plain": [
       "<Figure size 432x288 with 1 Axes>"
      ]
     },
     "metadata": {
      "needs_background": "light"
     },
     "output_type": "display_data"
    }
   ],
   "source": [
    "import matplotlib.pyplot as plt\n",
    "%matplotlib inline\n",
    "\n",
    "loss = history.history['loss']\n",
    "acc = history.history['accuracy']\n",
    "epoches = range(len(acc))\n",
    "\n",
    "plt.plot(epoches, acc, 'ro', label='Training accuracy')\n",
    "plt.legend()\n",
    "plt.show()"
   ]
  },
  {
   "cell_type": "code",
   "execution_count": null,
   "metadata": {},
   "outputs": [],
   "source": []
  }
 ],
 "metadata": {
  "kernelspec": {
   "display_name": "Python 3",
   "language": "python",
   "name": "python3"
  },
  "language_info": {
   "codemirror_mode": {
    "name": "ipython",
    "version": 3
   },
   "file_extension": ".py",
   "mimetype": "text/x-python",
   "name": "python",
   "nbconvert_exporter": "python",
   "pygments_lexer": "ipython3",
   "version": "3.6.6"
  }
 },
 "nbformat": 4,
 "nbformat_minor": 1
}
